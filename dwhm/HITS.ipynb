{
 "cells": [
  {
   "cell_type": "code",
   "execution_count": 1,
   "metadata": {},
   "outputs": [
    {
     "name": "stdout",
     "output_type": "stream",
     "text": [
      "Hub Scores: [6.27963030e-01 6.27963030e-01 1.11199204e-06 4.59700843e-01]\n",
      "Authority Scores: [3.25057584e-01 3.25057584e-01 8.88073834e-01 1.24026596e-06]\n"
     ]
    }
   ],
   "source": [
    "import numpy as np\n",
    "def hits_algorithm(adjacency_matrix, max_iter=100, tol=1e-6):\n",
    "    n = adjacency_matrix.shape[0]\n",
    "    # Initialize hub and authority scores to 1\n",
    "    hubs = np.ones(n)\n",
    "    authorities = np.ones(n)\n",
    "    for _ in range(max_iter):\n",
    "    # Update authorities: sum of hub scores of incoming nodes\n",
    "        new_authorities = adjacency_matrix.T.dot(hubs)\n",
    "        # Update hubs: sum of authority scores of outgoing nodes\n",
    "        new_hubs = adjacency_matrix.dot(authorities)\n",
    "        # Normalize the scores\n",
    "        new_authorities = new_authorities / np.linalg.norm(new_authorities, 2)\n",
    "\n",
    "        new_hubs = new_hubs / np.linalg.norm(new_hubs, 2)\n",
    "    # Check for convergence\n",
    "        if np.linalg.norm(hubs - new_hubs) < tol and np.linalg.norm(authorities - new_authorities) < tol:\n",
    "            break\n",
    "        hubs, authorities = new_hubs, new_authorities\n",
    "    return hubs, authorities\n",
    "# Example usage\n",
    "if __name__ == \"__main__\":\n",
    "# Define an adjacency matrix for a small graph\n",
    "    adjacency_matrix = np.array([[0, 1, 1, 0],\n",
    "                                [1, 0, 1, 0],\n",
    "                                [0, 0, 0, 1],\n",
    "                                [0, 0, 1, 0]])\n",
    "\n",
    "hubs, authorities = hits_algorithm(adjacency_matrix)\n",
    "\n",
    "print(\"Hub Scores:\", hubs)\n",
    "print(\"Authority Scores:\", authorities)"
   ]
  }
 ],
 "metadata": {
  "kernelspec": {
   "display_name": "Python 3",
   "language": "python",
   "name": "python3"
  },
  "language_info": {
   "codemirror_mode": {
    "name": "ipython",
    "version": 3
   },
   "file_extension": ".py",
   "mimetype": "text/x-python",
   "name": "python",
   "nbconvert_exporter": "python",
   "pygments_lexer": "ipython3",
   "version": "3.11.4"
  }
 },
 "nbformat": 4,
 "nbformat_minor": 2
}
