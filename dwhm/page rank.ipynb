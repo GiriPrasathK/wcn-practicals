{
 "cells": [
  {
   "cell_type": "code",
   "execution_count": 1,
   "metadata": {},
   "outputs": [
    {
     "name": "stdout",
     "output_type": "stream",
     "text": [
      "[[0.  0.  1.  0. ]\n",
      " [0.5 0.  0.  0. ]\n",
      " [0.5 0.  0.  1. ]\n",
      " [0.  1.  0.  0. ]]\n",
      "[0.25 0.25 0.25 0.25]\n",
      "PageRank values: [0.31634539 0.1719466  0.3280534  0.18365461]\n"
     ]
    }
   ],
   "source": [
    "import numpy as np\n",
    "import numpy as np\n",
    "def pagerank(M, damping_factor=0.85, tol=1e-6):\n",
    "     \n",
    "     N = M.shape[1] # Total number of pages\n",
    "     rank = np.ones(N) / N # Initial rank for each page, equally distributed\n",
    "     teleport = np.ones(N) / N # Teleportation (uniform distribution)\n",
    "     print(teleport)\n",
    "     while True:\n",
    "         new_rank = (1 - damping_factor) * teleport + damping_factor * M @ rank\n",
    "\n",
    "         if np.linalg.norm(new_rank - rank, ord=1) < tol: # Convergence check\n",
    "             break\n",
    "         rank = new_rank\n",
    "     return new_rank\n",
    "    # Example usage:\n",
    "if __name__ == \"__main__\":\n",
    "    # Example adjacency matrix\n",
    "    # Each column corresponds to a page, each row indicates links to it.\n",
    "    M=np.array([[0, 0, 1, 0],\n",
    "\n",
    "    [0.5, 0, 0, 0],\n",
    "    [0.5, 0, 0, 1],\n",
    "    [0, 1, 0, 0]])\n",
    "\n",
    "    # Normalize columns to ensure stochastic matrix\n",
    "    #M = M / M.sum(axis=0)\n",
    "    print(M)\n",
    "    # Compute PageRank with damping factor and teleportation\n",
    "    pagerank_values = pagerank(M, damping_factor=0.85)\n",
    "    print(\"PageRank values:\", pagerank_values)\n",
    "        \n",
    "   "
   ]
  }
 ],
 "metadata": {
  "kernelspec": {
   "display_name": "Python 3",
   "language": "python",
   "name": "python3"
  },
  "language_info": {
   "codemirror_mode": {
    "name": "ipython",
    "version": 3
   },
   "file_extension": ".py",
   "mimetype": "text/x-python",
   "name": "python",
   "nbconvert_exporter": "python",
   "pygments_lexer": "ipython3",
   "version": "3.11.4"
  }
 },
 "nbformat": 4,
 "nbformat_minor": 2
}
